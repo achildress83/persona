{
 "cells": [
  {
   "cell_type": "code",
   "execution_count": 1,
   "id": "b3427243",
   "metadata": {},
   "outputs": [],
   "source": [
    "import numpy as np\n",
    "import pandas as pd\n",
    "import matplotlib.pyplot as plt\n",
    "%matplotlib inline\n",
    "import seaborn as sns\n",
    "from sklearn.metrics import confusion_matrix, classification_report"
   ]
  },
  {
   "cell_type": "markdown",
   "id": "2dc7e62f",
   "metadata": {},
   "source": [
    "# Data Cleaning and Feature Engineering"
   ]
  },
  {
   "cell_type": "code",
   "execution_count": 2,
   "id": "cf92ed7d",
   "metadata": {},
   "outputs": [
    {
     "data": {
      "text/html": [
       "<div>\n",
       "<style scoped>\n",
       "    .dataframe tbody tr th:only-of-type {\n",
       "        vertical-align: middle;\n",
       "    }\n",
       "\n",
       "    .dataframe tbody tr th {\n",
       "        vertical-align: top;\n",
       "    }\n",
       "\n",
       "    .dataframe thead th {\n",
       "        text-align: right;\n",
       "    }\n",
       "</style>\n",
       "<table border=\"1\" class=\"dataframe\">\n",
       "  <thead>\n",
       "    <tr style=\"text-align: right;\">\n",
       "      <th></th>\n",
       "      <th>1. First Name</th>\n",
       "      <th>2. Last Name</th>\n",
       "      <th>3. Age</th>\n",
       "      <th>4. Residence Address</th>\n",
       "      <th>5. Country of ID</th>\n",
       "      <th>6. Device Information</th>\n",
       "      <th>7. IP Address</th>\n",
       "      <th>8. Fraud Status (Ground Truth)</th>\n",
       "      <th>9. Verification ID</th>\n",
       "      <th>10. Verification Status</th>\n",
       "      <th>...</th>\n",
       "      <th>17. Compromised Detection</th>\n",
       "      <th>18. MRZ Detection</th>\n",
       "      <th>19. Expired Detection</th>\n",
       "      <th>20. Disallowed Country Detection</th>\n",
       "      <th>21. Entity Detection</th>\n",
       "      <th>22. Portrait Detection</th>\n",
       "      <th>23. Account Comparison</th>\n",
       "      <th>24. Selfie Comparison</th>\n",
       "      <th>25. Extracted Properties Detection</th>\n",
       "      <th>26. Tamper Detection</th>\n",
       "    </tr>\n",
       "  </thead>\n",
       "  <tbody>\n",
       "    <tr>\n",
       "      <th>677</th>\n",
       "      <td>Jeffrey</td>\n",
       "      <td>Jackson</td>\n",
       "      <td>44</td>\n",
       "      <td>44899 Anderson Flat\\nMichelleview, SD 82757</td>\n",
       "      <td>United States</td>\n",
       "      <td>Mozilla/5.0 (iPhone; CPU iPhone OS 3_1_3 like ...</td>\n",
       "      <td>135.114.101.140</td>\n",
       "      <td>FALSE</td>\n",
       "      <td>4511081</td>\n",
       "      <td>passed</td>\n",
       "      <td>...</td>\n",
       "      <td>passed</td>\n",
       "      <td>not_applicable</td>\n",
       "      <td>passed</td>\n",
       "      <td>passed</td>\n",
       "      <td>passed</td>\n",
       "      <td>passed</td>\n",
       "      <td>not_applicable</td>\n",
       "      <td>not_applicable</td>\n",
       "      <td>passed</td>\n",
       "      <td>passed</td>\n",
       "    </tr>\n",
       "    <tr>\n",
       "      <th>303</th>\n",
       "      <td>Holly</td>\n",
       "      <td>Hudson</td>\n",
       "      <td>72</td>\n",
       "      <td>5934 Rollins Gardens\\nDonnachester, IL 91525</td>\n",
       "      <td>United States</td>\n",
       "      <td>Mozilla/5.0 (X11; Linux x86_64) AppleWebKit/53...</td>\n",
       "      <td>157.62.125.81</td>\n",
       "      <td>FALSE</td>\n",
       "      <td>2139275</td>\n",
       "      <td>failed</td>\n",
       "      <td>...</td>\n",
       "      <td>passed</td>\n",
       "      <td>failed</td>\n",
       "      <td>not_applicable</td>\n",
       "      <td>passed</td>\n",
       "      <td>passed</td>\n",
       "      <td>passed</td>\n",
       "      <td>not_applicable</td>\n",
       "      <td>not_applicable</td>\n",
       "      <td>passed</td>\n",
       "      <td>passed</td>\n",
       "    </tr>\n",
       "    <tr>\n",
       "      <th>87</th>\n",
       "      <td>Larry</td>\n",
       "      <td>Mccall</td>\n",
       "      <td>42</td>\n",
       "      <td>06441 Martinez Stream\\nBradville, FL 15904</td>\n",
       "      <td>United States</td>\n",
       "      <td>iPad; CPU iPad OS 9_3_6 like Mac OS X</td>\n",
       "      <td>158.86.166.131</td>\n",
       "      <td>FALSE</td>\n",
       "      <td>6003628</td>\n",
       "      <td>failed</td>\n",
       "      <td>...</td>\n",
       "      <td>passed</td>\n",
       "      <td>not_applicable</td>\n",
       "      <td>passed</td>\n",
       "      <td>passed</td>\n",
       "      <td>passed</td>\n",
       "      <td>passed</td>\n",
       "      <td>not_applicable</td>\n",
       "      <td>not_applicable</td>\n",
       "      <td>passed</td>\n",
       "      <td>passed</td>\n",
       "    </tr>\n",
       "    <tr>\n",
       "      <th>748</th>\n",
       "      <td>Jennifer</td>\n",
       "      <td>Norman</td>\n",
       "      <td>63</td>\n",
       "      <td>5758 Christian Hollow\\nWest Cherylton, CT 29769</td>\n",
       "      <td>Japan</td>\n",
       "      <td>iPhone; CPU iPhone OS 7_1_2 like Mac OS X</td>\n",
       "      <td>193.225.89.161</td>\n",
       "      <td>FALSE</td>\n",
       "      <td>4707587</td>\n",
       "      <td>passed</td>\n",
       "      <td>...</td>\n",
       "      <td>passed</td>\n",
       "      <td>not_applicable</td>\n",
       "      <td>passed</td>\n",
       "      <td>passed</td>\n",
       "      <td>passed</td>\n",
       "      <td>passed</td>\n",
       "      <td>not_applicable</td>\n",
       "      <td>not_applicable</td>\n",
       "      <td>passed</td>\n",
       "      <td>passed</td>\n",
       "    </tr>\n",
       "    <tr>\n",
       "      <th>716</th>\n",
       "      <td>Mrs.</td>\n",
       "      <td>Christina</td>\n",
       "      <td>68</td>\n",
       "      <td>37663 Patricia Cove\\nDavidland, HI 45128</td>\n",
       "      <td>Jersey</td>\n",
       "      <td>Opera/8.44.(X11; Linux i686; en-ZA) Presto/2.9...</td>\n",
       "      <td>107.69.104.245</td>\n",
       "      <td>Image Quality</td>\n",
       "      <td>3785578</td>\n",
       "      <td>passed</td>\n",
       "      <td>...</td>\n",
       "      <td>passed</td>\n",
       "      <td>passed</td>\n",
       "      <td>passed</td>\n",
       "      <td>passed</td>\n",
       "      <td>passed</td>\n",
       "      <td>passed</td>\n",
       "      <td>not_applicable</td>\n",
       "      <td>not_applicable</td>\n",
       "      <td>passed</td>\n",
       "      <td>passed</td>\n",
       "    </tr>\n",
       "  </tbody>\n",
       "</table>\n",
       "<p>5 rows × 26 columns</p>\n",
       "</div>"
      ],
      "text/plain": [
       "0   1. First Name 2. Last Name 3. Age  \\\n",
       "677       Jeffrey      Jackson     44   \n",
       "303         Holly       Hudson     72   \n",
       "87          Larry       Mccall     42   \n",
       "748      Jennifer       Norman     63   \n",
       "716          Mrs.    Christina     68   \n",
       "\n",
       "0                               4. Residence Address 5. Country of ID  \\\n",
       "677      44899 Anderson Flat\\nMichelleview, SD 82757    United States   \n",
       "303     5934 Rollins Gardens\\nDonnachester, IL 91525    United States   \n",
       "87        06441 Martinez Stream\\nBradville, FL 15904    United States   \n",
       "748  5758 Christian Hollow\\nWest Cherylton, CT 29769            Japan   \n",
       "716         37663 Patricia Cove\\nDavidland, HI 45128           Jersey   \n",
       "\n",
       "0                                6. Device Information    7. IP Address  \\\n",
       "677  Mozilla/5.0 (iPhone; CPU iPhone OS 3_1_3 like ...  135.114.101.140   \n",
       "303  Mozilla/5.0 (X11; Linux x86_64) AppleWebKit/53...    157.62.125.81   \n",
       "87               iPad; CPU iPad OS 9_3_6 like Mac OS X   158.86.166.131   \n",
       "748          iPhone; CPU iPhone OS 7_1_2 like Mac OS X   193.225.89.161   \n",
       "716  Opera/8.44.(X11; Linux i686; en-ZA) Presto/2.9...   107.69.104.245   \n",
       "\n",
       "0   8. Fraud Status (Ground Truth) 9. Verification ID 10. Verification Status  \\\n",
       "677                          FALSE            4511081                  passed   \n",
       "303                          FALSE            2139275                  failed   \n",
       "87                           FALSE            6003628                  failed   \n",
       "748                          FALSE            4707587                  passed   \n",
       "716                  Image Quality            3785578                  passed   \n",
       "\n",
       "0    ... 17. Compromised Detection 18. MRZ Detection 19. Expired Detection  \\\n",
       "677  ...                    passed    not_applicable                passed   \n",
       "303  ...                    passed            failed        not_applicable   \n",
       "87   ...                    passed    not_applicable                passed   \n",
       "748  ...                    passed    not_applicable                passed   \n",
       "716  ...                    passed            passed                passed   \n",
       "\n",
       "0   20. Disallowed Country Detection 21. Entity Detection  \\\n",
       "677                           passed               passed   \n",
       "303                           passed               passed   \n",
       "87                            passed               passed   \n",
       "748                           passed               passed   \n",
       "716                           passed               passed   \n",
       "\n",
       "0   22. Portrait Detection 23. Account Comparison 24. Selfie Comparison  \\\n",
       "677                 passed         not_applicable        not_applicable   \n",
       "303                 passed         not_applicable        not_applicable   \n",
       "87                  passed         not_applicable        not_applicable   \n",
       "748                 passed         not_applicable        not_applicable   \n",
       "716                 passed         not_applicable        not_applicable   \n",
       "\n",
       "0   25. Extracted Properties Detection 26. Tamper Detection  \n",
       "677                             passed               passed  \n",
       "303                             passed               passed  \n",
       "87                              passed               passed  \n",
       "748                             passed               passed  \n",
       "716                             passed               passed  \n",
       "\n",
       "[5 rows x 26 columns]"
      ]
     },
     "execution_count": 2,
     "metadata": {},
     "output_type": "execute_result"
    }
   ],
   "source": [
    "# read in csv and adjust header row\n",
    "# preview random sample of data\n",
    "df = pd.read_csv('persona_data.csv')\n",
    "df.columns = df.iloc[0]\n",
    "df = df[1:]\n",
    "df.sample(5)"
   ]
  },
  {
   "cell_type": "code",
   "execution_count": 3,
   "id": "6a7ad6d0",
   "metadata": {},
   "outputs": [
    {
     "name": "stdout",
     "output_type": "stream",
     "text": [
      "<class 'pandas.core.frame.DataFrame'>\n",
      "RangeIndex: 1003 entries, 1 to 1003\n",
      "Data columns (total 26 columns):\n",
      " #   Column                                  Non-Null Count  Dtype \n",
      "---  ------                                  --------------  ----- \n",
      " 0   1. First Name                           1003 non-null   object\n",
      " 1   2. Last Name                            1003 non-null   object\n",
      " 2   3. Age                                  999 non-null    object\n",
      " 3   4. Residence Address                    1003 non-null   object\n",
      " 4   5. Country of ID                        1003 non-null   object\n",
      " 5   6. Device Information                   1003 non-null   object\n",
      " 6   7. IP Address                           1003 non-null   object\n",
      " 7   8. Fraud Status (Ground Truth)          1003 non-null   object\n",
      " 8   9. Verification ID                      1003 non-null   object\n",
      " 9   10. Verification Status                 1003 non-null   object\n",
      " 10  11. Verification Created Date           1003 non-null   object\n",
      " 11  12. Color Inconsistency Detection       1000 non-null   object\n",
      " 12  13. Barcode Detection                   1000 non-null   object\n",
      " 13  14. Extraction Inconsistency Detection  1000 non-null   object\n",
      " 14  15. Inquiry Comparison                  1000 non-null   object\n",
      " 15  16. Disallowed Type Detection           1000 non-null   object\n",
      " 16  17. Compromised Detection               1000 non-null   object\n",
      " 17  18. MRZ Detection                       1000 non-null   object\n",
      " 18  19. Expired Detection                   1000 non-null   object\n",
      " 19  20. Disallowed Country Detection        1000 non-null   object\n",
      " 20  21. Entity Detection                    1000 non-null   object\n",
      " 21  22. Portrait Detection                  1000 non-null   object\n",
      " 22  23. Account Comparison                  1000 non-null   object\n",
      " 23  24. Selfie Comparison                   1000 non-null   object\n",
      " 24  25. Extracted Properties Detection      1000 non-null   object\n",
      " 25  26. Tamper Detection                    1000 non-null   object\n",
      "dtypes: object(26)\n",
      "memory usage: 203.9+ KB\n"
     ]
    }
   ],
   "source": [
    "df.info()"
   ]
  },
  {
   "cell_type": "code",
   "execution_count": 4,
   "id": "19cab285",
   "metadata": {},
   "outputs": [],
   "source": [
    "# convert Age to int\n",
    "df['3. Age'] = df['3. Age'].astype('int32', errors='ignore')"
   ]
  },
  {
   "cell_type": "code",
   "execution_count": 5,
   "id": "1fa4b442",
   "metadata": {},
   "outputs": [],
   "source": [
    "# convert Created date to datetime\n",
    "df['11. Verification Created Date'] = pd.to_datetime(df['11. Verification Created Date'], errors='ignore')"
   ]
  },
  {
   "cell_type": "markdown",
   "id": "9bf48b72",
   "metadata": {},
   "source": [
    "## Extract Geo Info\n",
    "I think city, state and zip code are the most useful geo info in the 'Residence Address' column. I referenced [this article](https://support.pirateship.com/en/articles/1068456-how-do-i-ship-to-and-from-military-apo-fpo-and-dpo-addresses) to separate out military addresses\n",
    "\n",
    "### Functions for extracting city, state, and zip "
   ]
  },
  {
   "cell_type": "code",
   "execution_count": 6,
   "id": "e74c32e1",
   "metadata": {},
   "outputs": [],
   "source": [
    "# get city, state and zipcode from address. \n",
    "# Note: Military address will not have city, but will have a zip code.\n",
    "# --> Military address State Key: AA (Armed Forces Americas)/AE (Armed Forces Europe)/AP (Armed Forces Pacific)\n",
    "def get_state(row):\n",
    "    return row.rsplit(' ',2)[1].strip() \n",
    "\n",
    "def get_zip(row):\n",
    "    return row.rsplit(' ',2)[2].strip()\n",
    "\n",
    "def get_city(row):\n",
    "    m_city = ['APO','FPO','DPO']\n",
    "    res = any(ele in row for ele in m_city)\n",
    "    if res:\n",
    "        return 'military'\n",
    "    else:\n",
    "        address_list = row.rsplit(' ',2)\n",
    "        city = address_list[0].split('\\n')[1].replace(',','').strip()\n",
    "        return city"
   ]
  },
  {
   "cell_type": "code",
   "execution_count": 7,
   "id": "8e75168d",
   "metadata": {},
   "outputs": [
    {
     "name": "stdout",
     "output_type": "stream",
     "text": [
      "address column is located at index 3\n"
     ]
    }
   ],
   "source": [
    "# get location of original field to anchor insertion of created fields\n",
    "address_loc = df.columns.get_loc('4. Residence Address')\n",
    "print(f'address column is located at index {address_loc}')"
   ]
  },
  {
   "cell_type": "code",
   "execution_count": 8,
   "id": "c6e0d395",
   "metadata": {},
   "outputs": [],
   "source": [
    "# insert state column into dataframe\n",
    "state = df['4. Residence Address'].apply(get_state)\n",
    "df.insert(address_loc + 1,'state',state)"
   ]
  },
  {
   "cell_type": "code",
   "execution_count": 9,
   "id": "85f523c5",
   "metadata": {},
   "outputs": [],
   "source": [
    "# insert zip code column into dataframe\n",
    "zip_code = df['4. Residence Address'].apply(get_zip)\n",
    "df.insert(address_loc + 2,'zip_code',zip_code)"
   ]
  },
  {
   "cell_type": "code",
   "execution_count": 10,
   "id": "d0015a62",
   "metadata": {},
   "outputs": [],
   "source": [
    "# insert city column into dataframe\n",
    "city = df['4. Residence Address'].apply(get_city)\n",
    "df.insert(address_loc + 3,'city',city)"
   ]
  },
  {
   "cell_type": "markdown",
   "id": "7601e6c4",
   "metadata": {},
   "source": [
    "## Identify Browser/Device\n",
    "I used the rules in [this article](https://delib.zendesk.com/hc/en-us/articles/203431259-Browser-device-identification-how-to-find-out-which-browser-and-device-have-been-used-to-submit-a-response) to break out browser and device type from 'Device Information' column\n"
   ]
  },
  {
   "cell_type": "code",
   "execution_count": 11,
   "id": "e06c4dac",
   "metadata": {},
   "outputs": [],
   "source": [
    "browser_dict = {\n",
    "    'Firefox':{'must contain':['Firefox'], \n",
    "               'must not contain':['Seamonkey']},\n",
    "    'Seamonkey':{'must contain': ['Seamonkey'], \n",
    "                 'must not contain': []},\n",
    "    'Chrome':{'must contain':['Chrome'], \n",
    "              'must not contain': ['Chromium']},\n",
    "    'Chromium':{'must contain':['Chromium'], \n",
    "                'must not contain': []},\n",
    "    'Safari':{'must contain':['Safari'],\n",
    "              'must not contain': ['Chrome','Chromium']},\n",
    "    'Opera':{'must contain':['OPR','Opera'], \n",
    "             'must not contain': []},\n",
    "    'Internet Explorer':{'must contain':['MSIE','Trident','rv:'],\n",
    "                         'must not contain': []}\n",
    "}\n"
   ]
  },
  {
   "cell_type": "markdown",
   "id": "0d252eb9",
   "metadata": {},
   "source": [
    "### Functions for identifying browser and device"
   ]
  },
  {
   "cell_type": "code",
   "execution_count": 12,
   "id": "f6cc0ac6",
   "metadata": {},
   "outputs": [],
   "source": [
    "def get_browser(row):\n",
    "    browser = 'Other'\n",
    "    \n",
    "    for key in browser_dict:\n",
    "        \n",
    "        must_contain = any(ele in row for ele in browser_dict[key].get('must contain'))\n",
    "        must_not_contain = any(ele in row for ele in browser_dict[key].get('must not contain'))\n",
    "        if must_contain and not must_not_contain:\n",
    "            browser = key\n",
    "            \n",
    "    return browser\n",
    "\n",
    "def get_device(row):\n",
    "    res = any(ele.lower() in row.lower() for ele in mobile_devices)\n",
    "    if res:\n",
    "        return 'mobile'\n",
    "    else:\n",
    "        return 'desktop'\n",
    "    \n",
    "def get_os(row):\n",
    "    os = 'other'\n",
    "    for ele in device_os:\n",
    "        if ele.lower() in row.lower():\n",
    "            os = ele\n",
    "    return os"
   ]
  },
  {
   "cell_type": "code",
   "execution_count": 13,
   "id": "26e0d06f",
   "metadata": {},
   "outputs": [
    {
     "name": "stdout",
     "output_type": "stream",
     "text": [
      "device column is located at index 8\n"
     ]
    }
   ],
   "source": [
    "# get location of original field to anchor insertion of created fields\n",
    "device_loc = df.columns.get_loc('6. Device Information')\n",
    "print(f'device column is located at index {device_loc}')"
   ]
  },
  {
   "cell_type": "code",
   "execution_count": 14,
   "id": "2671c1c8",
   "metadata": {},
   "outputs": [],
   "source": [
    "# insert browser column into dataframe\n",
    "browser = df['6. Device Information'].apply(get_browser)\n",
    "df.insert(device_loc + 1,'browser',browser)"
   ]
  },
  {
   "cell_type": "code",
   "execution_count": 15,
   "id": "78fbab72",
   "metadata": {},
   "outputs": [
    {
     "data": {
      "text/plain": [
       "array(['Safari', 'Other', 'Internet Explorer', 'Chrome', 'Opera'],\n",
       "      dtype=object)"
      ]
     },
     "execution_count": 15,
     "metadata": {},
     "output_type": "execute_result"
    }
   ],
   "source": [
    "# types of browsers used\n",
    "df['browser'].unique()"
   ]
  },
  {
   "cell_type": "code",
   "execution_count": 16,
   "id": "325c7078",
   "metadata": {},
   "outputs": [],
   "source": [
    "# this should catch most mobile devices \n",
    "# Note: if some is using a Android based Smart TV, they may appear in mobile, but this should be rare\n",
    "# otherwise, lumping all other devices not explititly included in mobile_devices into desktop\n",
    "mobile_devices = ['iPhone','iPad','iPod','Android','Mobi','Mobile']"
   ]
  },
  {
   "cell_type": "code",
   "execution_count": 17,
   "id": "451ce490",
   "metadata": {},
   "outputs": [],
   "source": [
    "# insert device column into dataframe\n",
    "device = df['6. Device Information'].apply(get_device)\n",
    "df.insert(device_loc + 2,'device',device)"
   ]
  },
  {
   "cell_type": "code",
   "execution_count": 18,
   "id": "a29af81f",
   "metadata": {},
   "outputs": [],
   "source": [
    "device_os = ['Mac','Android','Linux','Windows']"
   ]
  },
  {
   "cell_type": "code",
   "execution_count": 19,
   "id": "5cf0e26a",
   "metadata": {},
   "outputs": [],
   "source": [
    "os = df['6. Device Information'].apply(get_os)\n",
    "df.insert(device_loc + 3,'device_os',os)"
   ]
  },
  {
   "cell_type": "code",
   "execution_count": 20,
   "id": "03c012a1",
   "metadata": {},
   "outputs": [
    {
     "data": {
      "text/plain": [
       "array(['Mac', 'Android', 'Windows', 'Linux'], dtype=object)"
      ]
     },
     "execution_count": 20,
     "metadata": {},
     "output_type": "execute_result"
    }
   ],
   "source": [
    "df['device_os'].unique()"
   ]
  },
  {
   "cell_type": "markdown",
   "id": "4fea7056",
   "metadata": {},
   "source": [
    "## Segment Day Parts\n",
    "\n",
    "### Function to extract day parts"
   ]
  },
  {
   "cell_type": "code",
   "execution_count": 21,
   "id": "e4c7e85a",
   "metadata": {},
   "outputs": [],
   "source": [
    "def get_day_parts(row):\n",
    "    if row >= 23 or row < 6:\n",
    "        return 'night'\n",
    "    if row >= 6 and row < 10:\n",
    "        return 'early morning'\n",
    "    if row >= 10 and row < 12:\n",
    "        return 'late morning'\n",
    "    if row >= 12 and row < 14:\n",
    "        return 'early afternoon'\n",
    "    if row >= 14 and row < 17:\n",
    "        return 'afternoon'\n",
    "    if row >= 17 and row < 20:\n",
    "        return 'evening'\n",
    "    if row >=20 and row < 23:\n",
    "        return 'late evening'"
   ]
  },
  {
   "cell_type": "code",
   "execution_count": 22,
   "id": "57172228",
   "metadata": {},
   "outputs": [
    {
     "name": "stdout",
     "output_type": "stream",
     "text": [
      "created at column is located at index 16\n"
     ]
    }
   ],
   "source": [
    "# get location of original field to anchor insertion of created fields\n",
    "created_loc = df.columns.get_loc('11. Verification Created Date')\n",
    "print(f'created at column is located at index {created_loc}')"
   ]
  },
  {
   "cell_type": "code",
   "execution_count": 23,
   "id": "9508465d",
   "metadata": {},
   "outputs": [],
   "source": [
    "date = df['11. Verification Created Date'].dt.date\n",
    "df.insert(created_loc + 1,'date',date)\n",
    "\n",
    "hour = df['11. Verification Created Date'].dt.hour\n",
    "df.insert(created_loc + 2,'hour',hour)\n",
    "\n",
    "weekday = df['11. Verification Created Date'].dt.day_name().str[:3]\n",
    "df.insert(created_loc + 3,'weekday',weekday)\n",
    "\n",
    "DayOfMonth = df['11. Verification Created Date'].dt.day\n",
    "df.insert(created_loc + 4,'DayOfMonth',DayOfMonth)\n",
    "\n",
    "MonthName = df['11. Verification Created Date'].dt.month_name().str[:3]\n",
    "df.insert(created_loc + 5,'MonthName',MonthName)\n",
    "\n",
    "Year = df['11. Verification Created Date'].dt.year\n",
    "df.insert(created_loc + 6,'Year',Year)\n",
    "\n",
    "day_part = df['hour'].apply(get_day_parts)\n",
    "df.insert(created_loc + 7,'day_pary',day_part)"
   ]
  },
  {
   "cell_type": "markdown",
   "id": "2e565682",
   "metadata": {},
   "source": [
    "## Assess Model\n",
    "1. I decided to only look at records where the ground truth was observable. \n",
    "    - since this represents ~86% of the data, this is acceptable loss\n",
    "    - perhaps there is value in looking at the predictions on ground truth observations where there were image quality issues. but this seems outside the scope of this project\n",
    "    "
   ]
  },
  {
   "cell_type": "markdown",
   "id": "174531da",
   "metadata": {},
   "source": [
    "### Functions to build accuracy scores to assess each check as well as overall model"
   ]
  },
  {
   "cell_type": "code",
   "execution_count": 24,
   "id": "4563eeac",
   "metadata": {},
   "outputs": [],
   "source": [
    "def make_predictor_target_columns(row):\n",
    "    '''turns predictor and target columns into binary 1/0'''\n",
    "    \n",
    "    ones =['TRUE','failed']\n",
    "    res = any(ele.lower() in row.lower() for ele in ones)\n",
    "    if res:\n",
    "        return 1\n",
    "    else:\n",
    "        return 0\n",
    "    \n",
    "def get_accuracy_score(df,target_col,check_col_index):\n",
    "    '''\n",
    "    input: takes dataframe, target col name string, and check col index number\n",
    "    output: returns check col name, accuracy score for the given check as percent \\ \n",
    "    and number of observations\n",
    "    '''\n",
    "    check_col = df.columns[check_col_index]\n",
    "    \n",
    "    # make df to only include evaluated rows\n",
    "    data = df[(df[check_col] != 'not_applicable') & (pd.notnull(df[check_col]))]\n",
    "    # make target and predicted series\n",
    "    target = data[target_col].apply(make_predictor_target_columns)\n",
    "    predicted = data[check_col].apply(make_predictor_target_columns)\n",
    "    \n",
    "    score = np.count_nonzero(target==predicted) / len(target) \n",
    "    return check_col, round(score*100,2), data.shape[0]"
   ]
  },
  {
   "cell_type": "markdown",
   "id": "48119331",
   "metadata": {},
   "source": [
    "### Assess overall effectiveness of Persona's automated solution"
   ]
  },
  {
   "cell_type": "code",
   "execution_count": 25,
   "id": "cc09a20c",
   "metadata": {},
   "outputs": [],
   "source": [
    "# look at all records where there are no image quality issues\n",
    "no_issues = df[df['8. Fraud Status (Ground Truth)'] != 'Image Quality']"
   ]
  },
  {
   "cell_type": "code",
   "execution_count": 26,
   "id": "b56c7217",
   "metadata": {},
   "outputs": [],
   "source": [
    "# make target and predicted series\n",
    "target = no_issues['8. Fraud Status (Ground Truth)'].apply(make_predictor_target_columns)\n",
    "predicted = no_issues['10. Verification Status'].apply(make_predictor_target_columns)"
   ]
  },
  {
   "cell_type": "code",
   "execution_count": 27,
   "id": "76b53622",
   "metadata": {},
   "outputs": [
    {
     "data": {
      "text/html": [
       "<div>\n",
       "<style scoped>\n",
       "    .dataframe tbody tr th:only-of-type {\n",
       "        vertical-align: middle;\n",
       "    }\n",
       "\n",
       "    .dataframe tbody tr th {\n",
       "        vertical-align: top;\n",
       "    }\n",
       "\n",
       "    .dataframe thead th {\n",
       "        text-align: right;\n",
       "    }\n",
       "</style>\n",
       "<table border=\"1\" class=\"dataframe\">\n",
       "  <thead>\n",
       "    <tr style=\"text-align: right;\">\n",
       "      <th></th>\n",
       "      <th>predicted 0</th>\n",
       "      <th>predicted 1</th>\n",
       "    </tr>\n",
       "  </thead>\n",
       "  <tbody>\n",
       "    <tr>\n",
       "      <th>actual 0</th>\n",
       "      <td>474</td>\n",
       "      <td>319</td>\n",
       "    </tr>\n",
       "    <tr>\n",
       "      <th>actual 1</th>\n",
       "      <td>9</td>\n",
       "      <td>62</td>\n",
       "    </tr>\n",
       "  </tbody>\n",
       "</table>\n",
       "</div>"
      ],
      "text/plain": [
       "          predicted 0  predicted 1\n",
       "actual 0          474          319\n",
       "actual 1            9           62"
      ]
     },
     "execution_count": 27,
     "metadata": {},
     "output_type": "execute_result"
    }
   ],
   "source": [
    "# confusion matrix to assess model outcomes\n",
    "conf_matrix = pd.DataFrame(confusion_matrix(target, predicted),\n",
    "                           index = ['actual 0', 'actual 1'], \n",
    "                           columns = ['predicted 0', 'predicted 1'])\n",
    "conf_matrix"
   ]
  },
  {
   "cell_type": "code",
   "execution_count": 28,
   "id": "22b4d798",
   "metadata": {},
   "outputs": [
    {
     "name": "stdout",
     "output_type": "stream",
     "text": [
      "              precision    recall  f1-score   support\n",
      "\n",
      "           0       0.98      0.60      0.74       793\n",
      "           1       0.16      0.87      0.27        71\n",
      "\n",
      "    accuracy                           0.62       864\n",
      "   macro avg       0.57      0.74      0.51       864\n",
      "weighted avg       0.91      0.62      0.70       864\n",
      "\n"
     ]
    }
   ],
   "source": [
    "# print classification report \n",
    "print(classification_report(target, predicted)) "
   ]
  },
  {
   "cell_type": "markdown",
   "id": "a2c0e60b",
   "metadata": {},
   "source": [
    "#### Overall Results\n",
    "1. Precision is the accuracy of positive predictions --> TP / (TP + FP)\n",
    "    - basically, of the observations the model thought were of a certain class, what percent were actually of the class\n",
    "    - 98% of all no-fraud observations were correctly classified\n",
    "    - however, only 16% of all fraudulent observations we correctly classified\n",
    "2. Recall is the ability of the classifier to find all positive instances --> TP / (TP + FN)\n",
    "    - basically, of all the positive observations, what percent did the model identify\n",
    "    - 60% of the positive no-fraud observations were correctly classified\n",
    "    - 87% of the positive fraud observations were correctly classified\n",
    "3. f1-score is the harmonic mean between precision and recall\n",
    "    - I consider this more relevant for model comparison, so I'll table it for this project\n",
    "4. support is the number of occurences of a given class in the dataset\n",
    "    - this is a highly imbalanced data set, so precision and recall are more important than accuracy"
   ]
  },
  {
   "cell_type": "markdown",
   "id": "24cf8915",
   "metadata": {},
   "source": [
    "### Asses effectiveness of individual checks"
   ]
  },
  {
   "cell_type": "code",
   "execution_count": 29,
   "id": "f9bd4324",
   "metadata": {},
   "outputs": [
    {
     "name": "stdout",
     "output_type": "stream",
     "text": [
      "first check column is located at index 24\n"
     ]
    }
   ],
   "source": [
    "# get location of original field\n",
    "first_check_loc = df.columns.get_loc('12. Color Inconsistency Detection')\n",
    "print(f'first check column is located at index {first_check_loc}')"
   ]
  },
  {
   "cell_type": "code",
   "execution_count": 30,
   "id": "56c4faaa",
   "metadata": {},
   "outputs": [
    {
     "name": "stdout",
     "output_type": "stream",
     "text": [
      "last check column is located at index 38\n"
     ]
    }
   ],
   "source": [
    "# get location of last field\n",
    "last_check_loc = df.columns.get_loc(df.columns[-1])\n",
    "print(f'last check column is located at index {last_check_loc}')"
   ]
  },
  {
   "cell_type": "code",
   "execution_count": 31,
   "id": "b2595e5c",
   "metadata": {
    "scrolled": true
   },
   "outputs": [
    {
     "name": "stdout",
     "output_type": "stream",
     "text": [
      "error on 24. Selfie Comparison\n"
     ]
    }
   ],
   "source": [
    "check_col_names = []\n",
    "accuracy_scores = []\n",
    "num_observations = []\n",
    "\n",
    "for loc in range(first_check_loc,last_check_loc+1):\n",
    "    try:\n",
    "        check_col_name, accuracy_score, observations = get_accuracy_score(no_issues, '8. Fraud Status (Ground Truth)', loc)\n",
    "        check_col_names.append(check_col_name)\n",
    "        accuracy_scores.append(accuracy_score)\n",
    "        num_observations.append(observations)\n",
    "    except:\n",
    "        print(f'error on {df.columns[loc]}')"
   ]
  },
  {
   "cell_type": "code",
   "execution_count": 32,
   "id": "03b02edf",
   "metadata": {},
   "outputs": [
    {
     "data": {
      "text/html": [
       "<div>\n",
       "<style scoped>\n",
       "    .dataframe tbody tr th:only-of-type {\n",
       "        vertical-align: middle;\n",
       "    }\n",
       "\n",
       "    .dataframe tbody tr th {\n",
       "        vertical-align: top;\n",
       "    }\n",
       "\n",
       "    .dataframe thead th {\n",
       "        text-align: right;\n",
       "    }\n",
       "</style>\n",
       "<table border=\"1\" class=\"dataframe\">\n",
       "  <thead>\n",
       "    <tr style=\"text-align: right;\">\n",
       "      <th></th>\n",
       "      <th>check</th>\n",
       "      <th>score</th>\n",
       "      <th>observations</th>\n",
       "    </tr>\n",
       "  </thead>\n",
       "  <tbody>\n",
       "    <tr>\n",
       "      <th>0</th>\n",
       "      <td>12. Color Inconsistency Detection</td>\n",
       "      <td>93.17</td>\n",
       "      <td>703</td>\n",
       "    </tr>\n",
       "    <tr>\n",
       "      <th>1</th>\n",
       "      <td>13. Barcode Detection</td>\n",
       "      <td>75.52</td>\n",
       "      <td>821</td>\n",
       "    </tr>\n",
       "    <tr>\n",
       "      <th>2</th>\n",
       "      <td>14. Extraction Inconsistency Detection</td>\n",
       "      <td>93.30</td>\n",
       "      <td>582</td>\n",
       "    </tr>\n",
       "    <tr>\n",
       "      <th>3</th>\n",
       "      <td>15. Inquiry Comparison</td>\n",
       "      <td>85.85</td>\n",
       "      <td>530</td>\n",
       "    </tr>\n",
       "    <tr>\n",
       "      <th>4</th>\n",
       "      <td>16. Disallowed Type Detection</td>\n",
       "      <td>81.63</td>\n",
       "      <td>860</td>\n",
       "    </tr>\n",
       "    <tr>\n",
       "      <th>5</th>\n",
       "      <td>17. Compromised Detection</td>\n",
       "      <td>91.75</td>\n",
       "      <td>861</td>\n",
       "    </tr>\n",
       "    <tr>\n",
       "      <th>6</th>\n",
       "      <td>18. MRZ Detection</td>\n",
       "      <td>53.85</td>\n",
       "      <td>39</td>\n",
       "    </tr>\n",
       "    <tr>\n",
       "      <th>7</th>\n",
       "      <td>19. Expired Detection</td>\n",
       "      <td>88.38</td>\n",
       "      <td>809</td>\n",
       "    </tr>\n",
       "    <tr>\n",
       "      <th>8</th>\n",
       "      <td>20. Disallowed Country Detection</td>\n",
       "      <td>91.64</td>\n",
       "      <td>861</td>\n",
       "    </tr>\n",
       "    <tr>\n",
       "      <th>9</th>\n",
       "      <td>21. Entity Detection</td>\n",
       "      <td>88.62</td>\n",
       "      <td>861</td>\n",
       "    </tr>\n",
       "    <tr>\n",
       "      <th>10</th>\n",
       "      <td>22. Portrait Detection</td>\n",
       "      <td>91.07</td>\n",
       "      <td>862</td>\n",
       "    </tr>\n",
       "    <tr>\n",
       "      <th>11</th>\n",
       "      <td>23. Account Comparison</td>\n",
       "      <td>94.44</td>\n",
       "      <td>108</td>\n",
       "    </tr>\n",
       "    <tr>\n",
       "      <th>12</th>\n",
       "      <td>25. Extracted Properties Detection</td>\n",
       "      <td>91.75</td>\n",
       "      <td>861</td>\n",
       "    </tr>\n",
       "    <tr>\n",
       "      <th>13</th>\n",
       "      <td>26. Tamper Detection</td>\n",
       "      <td>93.74</td>\n",
       "      <td>862</td>\n",
       "    </tr>\n",
       "  </tbody>\n",
       "</table>\n",
       "</div>"
      ],
      "text/plain": [
       "                                     check  score  observations\n",
       "0        12. Color Inconsistency Detection  93.17           703\n",
       "1                    13. Barcode Detection  75.52           821\n",
       "2   14. Extraction Inconsistency Detection  93.30           582\n",
       "3                   15. Inquiry Comparison  85.85           530\n",
       "4            16. Disallowed Type Detection  81.63           860\n",
       "5                17. Compromised Detection  91.75           861\n",
       "6                        18. MRZ Detection  53.85            39\n",
       "7                    19. Expired Detection  88.38           809\n",
       "8         20. Disallowed Country Detection  91.64           861\n",
       "9                     21. Entity Detection  88.62           861\n",
       "10                  22. Portrait Detection  91.07           862\n",
       "11                  23. Account Comparison  94.44           108\n",
       "12      25. Extracted Properties Detection  91.75           861\n",
       "13                    26. Tamper Detection  93.74           862"
      ]
     },
     "execution_count": 32,
     "metadata": {},
     "output_type": "execute_result"
    }
   ],
   "source": [
    "score_card = pd.DataFrame(list(zip(check_col_names, accuracy_scores, num_observations)), columns=['check', 'score', 'observations'])\n",
    "score_card"
   ]
  },
  {
   "cell_type": "code",
   "execution_count": 33,
   "id": "070a7275",
   "metadata": {},
   "outputs": [
    {
     "data": {
      "text/html": [
       "<div>\n",
       "<style scoped>\n",
       "    .dataframe tbody tr th:only-of-type {\n",
       "        vertical-align: middle;\n",
       "    }\n",
       "\n",
       "    .dataframe tbody tr th {\n",
       "        vertical-align: top;\n",
       "    }\n",
       "\n",
       "    .dataframe thead th {\n",
       "        text-align: right;\n",
       "    }\n",
       "</style>\n",
       "<table border=\"1\" class=\"dataframe\">\n",
       "  <thead>\n",
       "    <tr style=\"text-align: right;\">\n",
       "      <th></th>\n",
       "      <th>check</th>\n",
       "      <th>score</th>\n",
       "      <th>observations</th>\n",
       "    </tr>\n",
       "  </thead>\n",
       "  <tbody>\n",
       "    <tr>\n",
       "      <th>0</th>\n",
       "      <td>12. Color Inconsistency Detection</td>\n",
       "      <td>93.17</td>\n",
       "      <td>703</td>\n",
       "    </tr>\n",
       "    <tr>\n",
       "      <th>1</th>\n",
       "      <td>13. Barcode Detection</td>\n",
       "      <td>75.52</td>\n",
       "      <td>821</td>\n",
       "    </tr>\n",
       "    <tr>\n",
       "      <th>4</th>\n",
       "      <td>16. Disallowed Type Detection</td>\n",
       "      <td>81.63</td>\n",
       "      <td>860</td>\n",
       "    </tr>\n",
       "    <tr>\n",
       "      <th>5</th>\n",
       "      <td>17. Compromised Detection</td>\n",
       "      <td>91.75</td>\n",
       "      <td>861</td>\n",
       "    </tr>\n",
       "    <tr>\n",
       "      <th>7</th>\n",
       "      <td>19. Expired Detection</td>\n",
       "      <td>88.38</td>\n",
       "      <td>809</td>\n",
       "    </tr>\n",
       "    <tr>\n",
       "      <th>8</th>\n",
       "      <td>20. Disallowed Country Detection</td>\n",
       "      <td>91.64</td>\n",
       "      <td>861</td>\n",
       "    </tr>\n",
       "    <tr>\n",
       "      <th>9</th>\n",
       "      <td>21. Entity Detection</td>\n",
       "      <td>88.62</td>\n",
       "      <td>861</td>\n",
       "    </tr>\n",
       "    <tr>\n",
       "      <th>10</th>\n",
       "      <td>22. Portrait Detection</td>\n",
       "      <td>91.07</td>\n",
       "      <td>862</td>\n",
       "    </tr>\n",
       "    <tr>\n",
       "      <th>12</th>\n",
       "      <td>25. Extracted Properties Detection</td>\n",
       "      <td>91.75</td>\n",
       "      <td>861</td>\n",
       "    </tr>\n",
       "    <tr>\n",
       "      <th>13</th>\n",
       "      <td>26. Tamper Detection</td>\n",
       "      <td>93.74</td>\n",
       "      <td>862</td>\n",
       "    </tr>\n",
       "  </tbody>\n",
       "</table>\n",
       "</div>"
      ],
      "text/plain": [
       "                                 check  score  observations\n",
       "0    12. Color Inconsistency Detection  93.17           703\n",
       "1                13. Barcode Detection  75.52           821\n",
       "4        16. Disallowed Type Detection  81.63           860\n",
       "5            17. Compromised Detection  91.75           861\n",
       "7                19. Expired Detection  88.38           809\n",
       "8     20. Disallowed Country Detection  91.64           861\n",
       "9                 21. Entity Detection  88.62           861\n",
       "10              22. Portrait Detection  91.07           862\n",
       "12  25. Extracted Properties Detection  91.75           861\n",
       "13                26. Tamper Detection  93.74           862"
      ]
     },
     "execution_count": 33,
     "metadata": {},
     "output_type": "execute_result"
    }
   ],
   "source": [
    "# take only checks with at least 75% of observations\n",
    "sig_score_card = score_card[score_card['observations'] >= round(len(no_issues)*0.75)]\n",
    "sig_score_card"
   ]
  },
  {
   "cell_type": "code",
   "execution_count": 34,
   "id": "5d3d7606",
   "metadata": {},
   "outputs": [
    {
     "name": "stdout",
     "output_type": "stream",
     "text": [
      "the best predictor:\n"
     ]
    },
    {
     "data": {
      "text/html": [
       "<div>\n",
       "<style scoped>\n",
       "    .dataframe tbody tr th:only-of-type {\n",
       "        vertical-align: middle;\n",
       "    }\n",
       "\n",
       "    .dataframe tbody tr th {\n",
       "        vertical-align: top;\n",
       "    }\n",
       "\n",
       "    .dataframe thead th {\n",
       "        text-align: right;\n",
       "    }\n",
       "</style>\n",
       "<table border=\"1\" class=\"dataframe\">\n",
       "  <thead>\n",
       "    <tr style=\"text-align: right;\">\n",
       "      <th></th>\n",
       "      <th>check</th>\n",
       "      <th>score</th>\n",
       "      <th>observations</th>\n",
       "    </tr>\n",
       "  </thead>\n",
       "  <tbody>\n",
       "    <tr>\n",
       "      <th>13</th>\n",
       "      <td>26. Tamper Detection</td>\n",
       "      <td>93.74</td>\n",
       "      <td>862</td>\n",
       "    </tr>\n",
       "  </tbody>\n",
       "</table>\n",
       "</div>"
      ],
      "text/plain": [
       "                   check  score  observations\n",
       "13  26. Tamper Detection  93.74           862"
      ]
     },
     "execution_count": 34,
     "metadata": {},
     "output_type": "execute_result"
    }
   ],
   "source": [
    "# best predictor\n",
    "print('the best predictor:')\n",
    "sig_score_card[sig_score_card.score == sig_score_card.score.max()]"
   ]
  },
  {
   "cell_type": "code",
   "execution_count": 35,
   "id": "dcc6074a",
   "metadata": {},
   "outputs": [
    {
     "name": "stdout",
     "output_type": "stream",
     "text": [
      "the worst predictor:\n"
     ]
    },
    {
     "data": {
      "text/html": [
       "<div>\n",
       "<style scoped>\n",
       "    .dataframe tbody tr th:only-of-type {\n",
       "        vertical-align: middle;\n",
       "    }\n",
       "\n",
       "    .dataframe tbody tr th {\n",
       "        vertical-align: top;\n",
       "    }\n",
       "\n",
       "    .dataframe thead th {\n",
       "        text-align: right;\n",
       "    }\n",
       "</style>\n",
       "<table border=\"1\" class=\"dataframe\">\n",
       "  <thead>\n",
       "    <tr style=\"text-align: right;\">\n",
       "      <th></th>\n",
       "      <th>check</th>\n",
       "      <th>score</th>\n",
       "      <th>observations</th>\n",
       "    </tr>\n",
       "  </thead>\n",
       "  <tbody>\n",
       "    <tr>\n",
       "      <th>1</th>\n",
       "      <td>13. Barcode Detection</td>\n",
       "      <td>75.52</td>\n",
       "      <td>821</td>\n",
       "    </tr>\n",
       "  </tbody>\n",
       "</table>\n",
       "</div>"
      ],
      "text/plain": [
       "                   check  score  observations\n",
       "1  13. Barcode Detection  75.52           821"
      ]
     },
     "execution_count": 35,
     "metadata": {},
     "output_type": "execute_result"
    }
   ],
   "source": [
    "# worst predictor\n",
    "print('the worst predictor:')\n",
    "sig_score_card[sig_score_card.score == sig_score_card.score.min()]"
   ]
  },
  {
   "cell_type": "markdown",
   "id": "5516179f",
   "metadata": {},
   "source": [
    "#### Results on all classes\n",
    "Looking at accuracy over both classes (where the check is valid for at least 75% of the observations), it would appear that...\n",
    "1. Tamper Detection is the best single check\n",
    "2. Barcode Detection is the worst single check\n",
    "\n",
    "HOWEVER..."
   ]
  },
  {
   "cell_type": "code",
   "execution_count": 36,
   "id": "8777e271",
   "metadata": {},
   "outputs": [],
   "source": [
    "# look at all records where there are no image quality issues and ONLY fraudulent observations\n",
    "no_issues_fraud_only = no_issues[no_issues['8. Fraud Status (Ground Truth)'] == 'TRUE']"
   ]
  },
  {
   "cell_type": "code",
   "execution_count": 37,
   "id": "245dfe23",
   "metadata": {},
   "outputs": [
    {
     "name": "stdout",
     "output_type": "stream",
     "text": [
      "error on 24. Selfie Comparison\n"
     ]
    }
   ],
   "source": [
    "check_col_names = []\n",
    "accuracy_scores = []\n",
    "num_observations = []\n",
    "\n",
    "for loc in range(first_check_loc,last_check_loc+1):\n",
    "    try:\n",
    "        check_col_name, accuracy_score, observations = get_accuracy_score(no_issues_fraud_only, '8. Fraud Status (Ground Truth)', loc)\n",
    "        check_col_names.append(check_col_name)\n",
    "        accuracy_scores.append(accuracy_score)\n",
    "        num_observations.append(observations)\n",
    "    except:\n",
    "        print(f'error on {df.columns[loc]}')"
   ]
  },
  {
   "cell_type": "code",
   "execution_count": 38,
   "id": "461b7027",
   "metadata": {},
   "outputs": [
    {
     "data": {
      "text/html": [
       "<div>\n",
       "<style scoped>\n",
       "    .dataframe tbody tr th:only-of-type {\n",
       "        vertical-align: middle;\n",
       "    }\n",
       "\n",
       "    .dataframe tbody tr th {\n",
       "        vertical-align: top;\n",
       "    }\n",
       "\n",
       "    .dataframe thead th {\n",
       "        text-align: right;\n",
       "    }\n",
       "</style>\n",
       "<table border=\"1\" class=\"dataframe\">\n",
       "  <thead>\n",
       "    <tr style=\"text-align: right;\">\n",
       "      <th></th>\n",
       "      <th>check</th>\n",
       "      <th>score</th>\n",
       "      <th>observations</th>\n",
       "    </tr>\n",
       "  </thead>\n",
       "  <tbody>\n",
       "    <tr>\n",
       "      <th>0</th>\n",
       "      <td>12. Color Inconsistency Detection</td>\n",
       "      <td>6.25</td>\n",
       "      <td>48</td>\n",
       "    </tr>\n",
       "    <tr>\n",
       "      <th>1</th>\n",
       "      <td>13. Barcode Detection</td>\n",
       "      <td>84.06</td>\n",
       "      <td>69</td>\n",
       "    </tr>\n",
       "    <tr>\n",
       "      <th>2</th>\n",
       "      <td>14. Extraction Inconsistency Detection</td>\n",
       "      <td>13.33</td>\n",
       "      <td>15</td>\n",
       "    </tr>\n",
       "    <tr>\n",
       "      <th>3</th>\n",
       "      <td>15. Inquiry Comparison</td>\n",
       "      <td>27.08</td>\n",
       "      <td>48</td>\n",
       "    </tr>\n",
       "    <tr>\n",
       "      <th>4</th>\n",
       "      <td>16. Disallowed Type Detection</td>\n",
       "      <td>18.31</td>\n",
       "      <td>71</td>\n",
       "    </tr>\n",
       "    <tr>\n",
       "      <th>5</th>\n",
       "      <td>17. Compromised Detection</td>\n",
       "      <td>1.41</td>\n",
       "      <td>71</td>\n",
       "    </tr>\n",
       "    <tr>\n",
       "      <th>6</th>\n",
       "      <td>18. MRZ Detection</td>\n",
       "      <td>100.00</td>\n",
       "      <td>2</td>\n",
       "    </tr>\n",
       "    <tr>\n",
       "      <th>7</th>\n",
       "      <td>19. Expired Detection</td>\n",
       "      <td>7.02</td>\n",
       "      <td>57</td>\n",
       "    </tr>\n",
       "    <tr>\n",
       "      <th>8</th>\n",
       "      <td>20. Disallowed Country Detection</td>\n",
       "      <td>0.00</td>\n",
       "      <td>71</td>\n",
       "    </tr>\n",
       "    <tr>\n",
       "      <th>9</th>\n",
       "      <td>21. Entity Detection</td>\n",
       "      <td>18.31</td>\n",
       "      <td>71</td>\n",
       "    </tr>\n",
       "    <tr>\n",
       "      <th>10</th>\n",
       "      <td>22. Portrait Detection</td>\n",
       "      <td>8.45</td>\n",
       "      <td>71</td>\n",
       "    </tr>\n",
       "    <tr>\n",
       "      <th>11</th>\n",
       "      <td>23. Account Comparison</td>\n",
       "      <td>0.00</td>\n",
       "      <td>6</td>\n",
       "    </tr>\n",
       "    <tr>\n",
       "      <th>12</th>\n",
       "      <td>25. Extracted Properties Detection</td>\n",
       "      <td>0.00</td>\n",
       "      <td>71</td>\n",
       "    </tr>\n",
       "    <tr>\n",
       "      <th>13</th>\n",
       "      <td>26. Tamper Detection</td>\n",
       "      <td>23.94</td>\n",
       "      <td>71</td>\n",
       "    </tr>\n",
       "  </tbody>\n",
       "</table>\n",
       "</div>"
      ],
      "text/plain": [
       "                                     check   score  observations\n",
       "0        12. Color Inconsistency Detection    6.25            48\n",
       "1                    13. Barcode Detection   84.06            69\n",
       "2   14. Extraction Inconsistency Detection   13.33            15\n",
       "3                   15. Inquiry Comparison   27.08            48\n",
       "4            16. Disallowed Type Detection   18.31            71\n",
       "5                17. Compromised Detection    1.41            71\n",
       "6                        18. MRZ Detection  100.00             2\n",
       "7                    19. Expired Detection    7.02            57\n",
       "8         20. Disallowed Country Detection    0.00            71\n",
       "9                     21. Entity Detection   18.31            71\n",
       "10                  22. Portrait Detection    8.45            71\n",
       "11                  23. Account Comparison    0.00             6\n",
       "12      25. Extracted Properties Detection    0.00            71\n",
       "13                    26. Tamper Detection   23.94            71"
      ]
     },
     "execution_count": 38,
     "metadata": {},
     "output_type": "execute_result"
    }
   ],
   "source": [
    "fraud_only_score_card = pd.DataFrame(list(zip(check_col_names, accuracy_scores, num_observations)), columns=['check', 'score', 'observations'])\n",
    "fraud_only_score_card"
   ]
  },
  {
   "cell_type": "code",
   "execution_count": 39,
   "id": "f2062457",
   "metadata": {},
   "outputs": [
    {
     "data": {
      "text/html": [
       "<div>\n",
       "<style scoped>\n",
       "    .dataframe tbody tr th:only-of-type {\n",
       "        vertical-align: middle;\n",
       "    }\n",
       "\n",
       "    .dataframe tbody tr th {\n",
       "        vertical-align: top;\n",
       "    }\n",
       "\n",
       "    .dataframe thead th {\n",
       "        text-align: right;\n",
       "    }\n",
       "</style>\n",
       "<table border=\"1\" class=\"dataframe\">\n",
       "  <thead>\n",
       "    <tr style=\"text-align: right;\">\n",
       "      <th></th>\n",
       "      <th>check</th>\n",
       "      <th>score</th>\n",
       "      <th>observations</th>\n",
       "    </tr>\n",
       "  </thead>\n",
       "  <tbody>\n",
       "    <tr>\n",
       "      <th>1</th>\n",
       "      <td>13. Barcode Detection</td>\n",
       "      <td>84.06</td>\n",
       "      <td>69</td>\n",
       "    </tr>\n",
       "    <tr>\n",
       "      <th>4</th>\n",
       "      <td>16. Disallowed Type Detection</td>\n",
       "      <td>18.31</td>\n",
       "      <td>71</td>\n",
       "    </tr>\n",
       "    <tr>\n",
       "      <th>5</th>\n",
       "      <td>17. Compromised Detection</td>\n",
       "      <td>1.41</td>\n",
       "      <td>71</td>\n",
       "    </tr>\n",
       "    <tr>\n",
       "      <th>7</th>\n",
       "      <td>19. Expired Detection</td>\n",
       "      <td>7.02</td>\n",
       "      <td>57</td>\n",
       "    </tr>\n",
       "    <tr>\n",
       "      <th>8</th>\n",
       "      <td>20. Disallowed Country Detection</td>\n",
       "      <td>0.00</td>\n",
       "      <td>71</td>\n",
       "    </tr>\n",
       "    <tr>\n",
       "      <th>9</th>\n",
       "      <td>21. Entity Detection</td>\n",
       "      <td>18.31</td>\n",
       "      <td>71</td>\n",
       "    </tr>\n",
       "    <tr>\n",
       "      <th>10</th>\n",
       "      <td>22. Portrait Detection</td>\n",
       "      <td>8.45</td>\n",
       "      <td>71</td>\n",
       "    </tr>\n",
       "    <tr>\n",
       "      <th>12</th>\n",
       "      <td>25. Extracted Properties Detection</td>\n",
       "      <td>0.00</td>\n",
       "      <td>71</td>\n",
       "    </tr>\n",
       "    <tr>\n",
       "      <th>13</th>\n",
       "      <td>26. Tamper Detection</td>\n",
       "      <td>23.94</td>\n",
       "      <td>71</td>\n",
       "    </tr>\n",
       "  </tbody>\n",
       "</table>\n",
       "</div>"
      ],
      "text/plain": [
       "                                 check  score  observations\n",
       "1                13. Barcode Detection  84.06            69\n",
       "4        16. Disallowed Type Detection  18.31            71\n",
       "5            17. Compromised Detection   1.41            71\n",
       "7                19. Expired Detection   7.02            57\n",
       "8     20. Disallowed Country Detection   0.00            71\n",
       "9                 21. Entity Detection  18.31            71\n",
       "10              22. Portrait Detection   8.45            71\n",
       "12  25. Extracted Properties Detection   0.00            71\n",
       "13                26. Tamper Detection  23.94            71"
      ]
     },
     "execution_count": 39,
     "metadata": {},
     "output_type": "execute_result"
    }
   ],
   "source": [
    "# take only checks with at least 75% of fraudulent observations\n",
    "sig_fraud_only_score_card = fraud_only_score_card[fraud_only_score_card['observations'] >= round(len(no_issues_fraud_only)*0.75)]\n",
    "sig_fraud_only_score_card"
   ]
  },
  {
   "cell_type": "code",
   "execution_count": 40,
   "id": "c6ca90c5",
   "metadata": {},
   "outputs": [
    {
     "name": "stdout",
     "output_type": "stream",
     "text": [
      "the best predictor:\n"
     ]
    },
    {
     "data": {
      "text/html": [
       "<div>\n",
       "<style scoped>\n",
       "    .dataframe tbody tr th:only-of-type {\n",
       "        vertical-align: middle;\n",
       "    }\n",
       "\n",
       "    .dataframe tbody tr th {\n",
       "        vertical-align: top;\n",
       "    }\n",
       "\n",
       "    .dataframe thead th {\n",
       "        text-align: right;\n",
       "    }\n",
       "</style>\n",
       "<table border=\"1\" class=\"dataframe\">\n",
       "  <thead>\n",
       "    <tr style=\"text-align: right;\">\n",
       "      <th></th>\n",
       "      <th>check</th>\n",
       "      <th>score</th>\n",
       "      <th>observations</th>\n",
       "    </tr>\n",
       "  </thead>\n",
       "  <tbody>\n",
       "    <tr>\n",
       "      <th>1</th>\n",
       "      <td>13. Barcode Detection</td>\n",
       "      <td>84.06</td>\n",
       "      <td>69</td>\n",
       "    </tr>\n",
       "  </tbody>\n",
       "</table>\n",
       "</div>"
      ],
      "text/plain": [
       "                   check  score  observations\n",
       "1  13. Barcode Detection  84.06            69"
      ]
     },
     "execution_count": 40,
     "metadata": {},
     "output_type": "execute_result"
    }
   ],
   "source": [
    "# best predictor\n",
    "print('the best predictor:')\n",
    "sig_fraud_only_score_card[sig_fraud_only_score_card.score == sig_fraud_only_score_card.score.max()]"
   ]
  },
  {
   "cell_type": "code",
   "execution_count": 41,
   "id": "7df6025e",
   "metadata": {},
   "outputs": [
    {
     "name": "stdout",
     "output_type": "stream",
     "text": [
      "the worst predictor:\n"
     ]
    },
    {
     "data": {
      "text/html": [
       "<div>\n",
       "<style scoped>\n",
       "    .dataframe tbody tr th:only-of-type {\n",
       "        vertical-align: middle;\n",
       "    }\n",
       "\n",
       "    .dataframe tbody tr th {\n",
       "        vertical-align: top;\n",
       "    }\n",
       "\n",
       "    .dataframe thead th {\n",
       "        text-align: right;\n",
       "    }\n",
       "</style>\n",
       "<table border=\"1\" class=\"dataframe\">\n",
       "  <thead>\n",
       "    <tr style=\"text-align: right;\">\n",
       "      <th></th>\n",
       "      <th>check</th>\n",
       "      <th>score</th>\n",
       "      <th>observations</th>\n",
       "    </tr>\n",
       "  </thead>\n",
       "  <tbody>\n",
       "    <tr>\n",
       "      <th>8</th>\n",
       "      <td>20. Disallowed Country Detection</td>\n",
       "      <td>0.0</td>\n",
       "      <td>71</td>\n",
       "    </tr>\n",
       "    <tr>\n",
       "      <th>12</th>\n",
       "      <td>25. Extracted Properties Detection</td>\n",
       "      <td>0.0</td>\n",
       "      <td>71</td>\n",
       "    </tr>\n",
       "  </tbody>\n",
       "</table>\n",
       "</div>"
      ],
      "text/plain": [
       "                                 check  score  observations\n",
       "8     20. Disallowed Country Detection    0.0            71\n",
       "12  25. Extracted Properties Detection    0.0            71"
      ]
     },
     "execution_count": 41,
     "metadata": {},
     "output_type": "execute_result"
    }
   ],
   "source": [
    "# worst predictor\n",
    "print('the worst predictor:')\n",
    "sig_fraud_only_score_card[sig_fraud_only_score_card.score == sig_fraud_only_score_card.score.min()]"
   ]
  },
  {
   "cell_type": "markdown",
   "id": "7f30dc36",
   "metadata": {},
   "source": [
    "#### Results on fraudulent observations only\n",
    "Looking at accuracy over fraud class (where the check is valid for at least 75% of the observations), it reveals that...\n",
    "1. Barcode Detection is actually the best single check!\n",
    "2. Disallowed Country and Extracted Properties Detection tie for the worst performers\n"
   ]
  },
  {
   "cell_type": "code",
   "execution_count": 42,
   "id": "a13d6441",
   "metadata": {},
   "outputs": [],
   "source": [
    "# df.to_csv('persona_data_clean.csv',index=False)"
   ]
  },
  {
   "cell_type": "code",
   "execution_count": null,
   "id": "6de40dc7",
   "metadata": {},
   "outputs": [],
   "source": []
  }
 ],
 "metadata": {
  "kernelspec": {
   "display_name": "Python 3 (ipykernel)",
   "language": "python",
   "name": "python3"
  },
  "language_info": {
   "codemirror_mode": {
    "name": "ipython",
    "version": 3
   },
   "file_extension": ".py",
   "mimetype": "text/x-python",
   "name": "python",
   "nbconvert_exporter": "python",
   "pygments_lexer": "ipython3",
   "version": "3.9.7"
  }
 },
 "nbformat": 4,
 "nbformat_minor": 5
}
